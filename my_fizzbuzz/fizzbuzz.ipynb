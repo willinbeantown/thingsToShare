{
 "cells": [
  {
   "cell_type": "code",
   "execution_count": null,
   "metadata": {},
   "outputs": [],
   "source": [
    "# Build lists of multiples of 3 & 5.\n",
    "def multiples():\n",
    "    b = 3\n",
    "    c = 5\n",
    "    x = []\n",
    "    y = []\n",
    "    for i in range(34):\n",
    "        x.append(b*i)\n",
    "    for i in range(21):\n",
    "        y.append(c*i)\n",
    "    return x, y"
   ]
  },
  {
   "cell_type": "code",
   "execution_count": null,
   "metadata": {},
   "outputs": [],
   "source": [
    "# Print 'Fizz', 'Buzz', 'Fizzbuzz', or number from value in list.\n",
    "def fizzbuzz(num):\n",
    "    # Print 'fizz' if multiple of 3 and not 5\n",
    "    if (num in x) & (num not in y):\n",
    "        print('fizz')\n",
    "        return\n",
    "    # Print 'buzz' if multiple of 5 and not 3\n",
    "    if (num in y) & (num not in x):\n",
    "        print('buzz')\n",
    "        return\n",
    "    # Print 'fizzbuzz' if multiple of both 3 and 5\n",
    "    if (num in x) & (num in y):\n",
    "        print('fizzbuzz')\n",
    "        return\n",
    "    # Print value if none of the above apply\n",
    "    else:\n",
    "        print(num)\n",
    "        return"
   ]
  },
  {
   "cell_type": "code",
   "execution_count": null,
   "metadata": {},
   "outputs": [],
   "source": [
    "# Create a list of 1 - 100.\n",
    "def create_list():\n",
    "    list_to_use = []\n",
    "    # Create a list from 0 - 100\n",
    "    for i in range(101):\n",
    "        # Build list.\n",
    "        list_to_use.append(i)\n",
    "    # Remove first value, a '0'\n",
    "    list_to_use.pop(0)\n",
    "    # Return list of 1 - 100\n",
    "    return list_to_use"
   ]
  },
  {
   "cell_type": "code",
   "execution_count": null,
   "metadata": {},
   "outputs": [],
   "source": [
    "# Program.\n",
    "def main():\n",
    "    # Get list of numbers ranging from 1 - 100.\n",
    "    numbers = create_list()\n",
    "    # Iterate through list for to FizzBuzz\n",
    "    for n in numbers:\n",
    "        fizzbuzz(n)\n",
    "    return"
   ]
  },
  {
   "cell_type": "code",
   "execution_count": null,
   "metadata": {
    "scrolled": false
   },
   "outputs": [],
   "source": [
    "# Run Program.\n",
    "if __name__ == '__main__':\n",
    "    main()"
   ]
  }
 ],
 "metadata": {
  "kernelspec": {
   "display_name": "Python 3",
   "language": "python",
   "name": "python3"
  },
  "language_info": {
   "codemirror_mode": {
    "name": "ipython",
    "version": 3
   },
   "file_extension": ".py",
   "mimetype": "text/x-python",
   "name": "python",
   "nbconvert_exporter": "python",
   "pygments_lexer": "ipython3",
   "version": "3.7.3"
  }
 },
 "nbformat": 4,
 "nbformat_minor": 2
}
